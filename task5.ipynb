{
 "cells": [
  {
   "cell_type": "code",
   "execution_count": 1,
   "metadata": {},
   "outputs": [
    {
     "data": {
      "text/plain": [
       "array([1, 0, 0, 0, 2, 0, 0, 0, 3, 0, 0, 0, 4, 0, 0, 0, 5])"
      ]
     },
     "execution_count": 1,
     "metadata": {},
     "output_type": "execute_result"
    }
   ],
   "source": [
    "import numpy as np\n",
    "t1 = np.arange(1,6)\n",
    "t2 = np.zeros((len(t1)-1)*3+len(t1), dtype = int)\n",
    "t2[::4] = t1\n",
    "t2\n",
    "        "
   ]
  },
  {
   "cell_type": "code",
   "execution_count": 42,
   "metadata": {},
   "outputs": [
    {
     "name": "stdout",
     "output_type": "stream",
     "text": [
      "[[0.53929901 0.22789544 0.08361642]\n",
      " [0.54613765 0.36449701 0.29968246]\n",
      " [0.91816341 0.92086027 0.51066032]]\n"
     ]
    },
    {
     "data": {
      "text/plain": [
       "array([[0.53929901, 0.22789544, 0.08361642],\n",
       "       [0.91816341, 0.92086027, 0.51066032],\n",
       "       [0.54613765, 0.36449701, 0.29968246]])"
      ]
     },
     "execution_count": 42,
     "metadata": {},
     "output_type": "execute_result"
    }
   ],
   "source": [
    "t3 = np.random.rand(3,3)\n",
    "print(t3)\n",
    "t4 = np.copy(t3[1])\n",
    "t3[1] = t3[2]\n",
    "t3[2] = t4\n",
    "t3"
   ]
  },
  {
   "cell_type": "code",
   "execution_count": 15,
   "metadata": {},
   "outputs": [
    {
     "data": {
      "text/plain": [
       "{1, 3, 4, 5, 7, 8, 10, 11, 12, 13, 14, 15, 16, 17, 18, 19}"
      ]
     },
     "execution_count": 15,
     "metadata": {},
     "output_type": "execute_result"
    }
   ],
   "source": [
    "t4 = np.random.randint(1,20,(10,3))\n",
    "t4set = set()\n",
    "for i in range(len(t4)):\n",
    "    for k in t4[i]:\n",
    "        t4set.add(k)\n",
    "t4set        \n",
    "        \n",
    "        \n",
    "        \n",
    "\n",
    "\n",
    "                       \n"
   ]
  },
  {
   "cell_type": "code",
   "execution_count": 19,
   "metadata": {},
   "outputs": [
    {
     "data": {
      "text/plain": [
       "array([0., 0., 0., 0., 1., 1., 1., 1., 1., 1., 1., 1., 1., 2., 2., 2., 2.,\n",
       "       2., 2., 3., 3., 3., 3., 3., 3., 3., 3., 3., 4., 4., 4., 4., 4., 4.,\n",
       "       4., 5., 5., 5., 5., 5., 5., 5., 5., 6., 6., 6., 6., 6., 6., 6., 6.,\n",
       "       7., 7., 7., 7., 7., 7., 7., 8., 8., 8., 8., 9.])"
      ]
     },
     "execution_count": 19,
     "metadata": {},
     "output_type": "execute_result"
    }
   ],
   "source": [
    "t5 = np.random.randint(0,10,10)\n",
    "t6 = np.arange(len(t5))\n",
    "t8 = np.array([])\n",
    "for i in t6:\n",
    "    t7 = np.array([])\n",
    "    for j in range(t5[i]): \n",
    "        t7 = np.append(t7, i)\n",
    "    t8 = np.append(t8, t7)    \n",
    "t8\n",
    "    "
   ]
  },
  {
   "cell_type": "code",
   "execution_count": 16,
   "metadata": {},
   "outputs": [
    {
     "data": {
      "text/plain": [
       "4.0"
      ]
     },
     "execution_count": 16,
     "metadata": {},
     "output_type": "execute_result"
    }
   ],
   "source": [
    "t9 = np.average(np.random.randint(0,10,10))\n",
    "t9"
   ]
  },
  {
   "cell_type": "code",
   "execution_count": 36,
   "metadata": {},
   "outputs": [
    {
     "name": "stdout",
     "output_type": "stream",
     "text": [
      "[[1 6 8]\n",
      " [6 8 4]\n",
      " [8 4 3]\n",
      " [4 3 1]\n",
      " [3 1 6]\n",
      " [1 6 8]\n",
      " [6 8 4]\n",
      " [8 4 0]]\n"
     ]
    }
   ],
   "source": [
    "t10 = np.random.randint(0,10,10)\n",
    "\n",
    "def shift(arr, n):\n",
    "    a = arr[:n]\n",
    "    b = np.array({})\n",
    "    for i in range(len(arr) - n):\n",
    "        c = np.roll(arr,shift = -1)\n",
    "        b = np.vstack((a, c[:3]))\n",
    "        arr = c\n",
    "        a = b\n",
    "    return b    \n",
    "print(shift(t10,3))        "
   ]
  },
  {
   "cell_type": "code",
   "execution_count": 46,
   "metadata": {},
   "outputs": [
    {
     "name": "stdout",
     "output_type": "stream",
     "text": [
      "[0 1 1 0 0 0 0 0 1 1]\n"
     ]
    },
    {
     "data": {
      "text/plain": [
       "array([1, 0, 0, 1, 1, 1, 1, 1, 0, 0])"
      ]
     },
     "execution_count": 46,
     "metadata": {},
     "output_type": "execute_result"
    }
   ],
   "source": [
    "t11 = np.random.randint(0,2,10)\n",
    "np.logical_not(t11, out=t11)"
   ]
  },
  {
   "cell_type": "code",
   "execution_count": 3,
   "metadata": {},
   "outputs": [
    {
     "name": "stdout",
     "output_type": "stream",
     "text": [
      "9.910757342963816\n",
      "8.622212535074738\n",
      "8.622212535074738\n",
      "8.589558545117432\n",
      "8.589558545117432\n",
      "2.8603174648979084\n",
      "2.8603174648979084\n",
      "2.8603174648979084\n",
      "1.2787302375435114\n",
      "0.26776108753972405\n"
     ]
    }
   ],
   "source": [
    "import math\n",
    "t12 = np.random.randint(0,20,20).reshape(10,2)\n",
    "t13 = np.random.randint(0,20,20).reshape(10,2)\n",
    "point = np.random.randint(0,20,2)\n",
    "def k(a, b):\n",
    "    return (a[0] - b[0])/(a[1] - b[1])\n",
    "def quot(x,a,b):\n",
    "    return (x - a[0])/k(a,b) + b[0]\n",
    "def gener(fir, sec, point):\n",
    "    inter = 30\n",
    "    for k in range(len(fir)):\n",
    "        for i in np.arange(-30.0,30.0,0.01):\n",
    "            y_1qu = quot(i,fir[k],sec[k])\n",
    "            int_point = [i,y_1qu]\n",
    "            tmp = math.sqrt(pow((int_point[0] - point[0]),2) + pow((int_point[1] - point[1]), 2))\n",
    "            if (tmp < inter):\n",
    "                inter = tmp\n",
    "        yield inter\n",
    "for i in gener(t12,t13,point):\n",
    "    print(i)\n",
    "                \n",
    "    "
   ]
  },
  {
   "cell_type": "code",
   "execution_count": 4,
   "metadata": {},
   "outputs": [],
   "source": [
    "t14 = np.random.uniform(0,1,(10,10))\n",
    "rank = np.linalg.matrix_rank(t14)"
   ]
  },
  {
   "cell_type": "code",
   "execution_count": 5,
   "metadata": {},
   "outputs": [
    {
     "name": "stdout",
     "output_type": "stream",
     "text": [
      "5\n"
     ]
    }
   ],
   "source": [
    "t15 = np.random.randint(0,10,50)\n",
    "print(np.bincount(t15).argmax())"
   ]
  },
  {
   "cell_type": "code",
   "execution_count": 10,
   "metadata": {
    "scrolled": true
   },
   "outputs": [
    {
     "name": "stdout",
     "output_type": "stream",
     "text": [
      "[[[[3 4 2]\n",
      "   [1 2 3]\n",
      "   [4 4 3]]\n",
      "\n",
      "  [[4 2 1]\n",
      "   [2 3 4]\n",
      "   [4 3 4]]\n",
      "\n",
      "  [[2 1 4]\n",
      "   [3 4 2]\n",
      "   [3 4 3]]\n",
      "\n",
      "  [[1 4 2]\n",
      "   [4 2 0]\n",
      "   [4 3 0]]\n",
      "\n",
      "  [[4 2 3]\n",
      "   [2 0 0]\n",
      "   [3 0 4]]\n",
      "\n",
      "  [[2 3 3]\n",
      "   [0 0 4]\n",
      "   [0 4 3]]\n",
      "\n",
      "  [[3 3 0]\n",
      "   [0 4 2]\n",
      "   [4 3 1]]\n",
      "\n",
      "  [[3 0 0]\n",
      "   [4 2 4]\n",
      "   [3 1 4]]]\n",
      "\n",
      "\n",
      " [[[1 2 3]\n",
      "   [4 4 3]\n",
      "   [2 2 2]]\n",
      "\n",
      "  [[2 3 4]\n",
      "   [4 3 4]\n",
      "   [2 2 1]]\n",
      "\n",
      "  [[3 4 2]\n",
      "   [3 4 3]\n",
      "   [2 1 1]]\n",
      "\n",
      "  [[4 2 0]\n",
      "   [4 3 0]\n",
      "   [1 1 3]]\n",
      "\n",
      "  [[2 0 0]\n",
      "   [3 0 4]\n",
      "   [1 3 3]]\n",
      "\n",
      "  [[0 0 4]\n",
      "   [0 4 3]\n",
      "   [3 3 0]]\n",
      "\n",
      "  [[0 4 2]\n",
      "   [4 3 1]\n",
      "   [3 0 0]]\n",
      "\n",
      "  [[4 2 4]\n",
      "   [3 1 4]\n",
      "   [0 0 1]]]\n",
      "\n",
      "\n",
      " [[[4 4 3]\n",
      "   [2 2 2]\n",
      "   [1 0 0]]\n",
      "\n",
      "  [[4 3 4]\n",
      "   [2 2 1]\n",
      "   [0 0 0]]\n",
      "\n",
      "  [[3 4 3]\n",
      "   [2 1 1]\n",
      "   [0 0 1]]\n",
      "\n",
      "  [[4 3 0]\n",
      "   [1 1 3]\n",
      "   [0 1 4]]\n",
      "\n",
      "  [[3 0 4]\n",
      "   [1 3 3]\n",
      "   [1 4 1]]\n",
      "\n",
      "  [[0 4 3]\n",
      "   [3 3 0]\n",
      "   [4 1 2]]\n",
      "\n",
      "  [[4 3 1]\n",
      "   [3 0 0]\n",
      "   [1 2 1]]\n",
      "\n",
      "  [[3 1 4]\n",
      "   [0 0 1]\n",
      "   [2 1 0]]]\n",
      "\n",
      "\n",
      " [[[2 2 2]\n",
      "   [1 0 0]\n",
      "   [0 2 3]]\n",
      "\n",
      "  [[2 2 1]\n",
      "   [0 0 0]\n",
      "   [2 3 2]]\n",
      "\n",
      "  [[2 1 1]\n",
      "   [0 0 1]\n",
      "   [3 2 3]]\n",
      "\n",
      "  [[1 1 3]\n",
      "   [0 1 4]\n",
      "   [2 3 1]]\n",
      "\n",
      "  [[1 3 3]\n",
      "   [1 4 1]\n",
      "   [3 1 1]]\n",
      "\n",
      "  [[3 3 0]\n",
      "   [4 1 2]\n",
      "   [1 1 1]]\n",
      "\n",
      "  [[3 0 0]\n",
      "   [1 2 1]\n",
      "   [1 1 3]]\n",
      "\n",
      "  [[0 0 1]\n",
      "   [2 1 0]\n",
      "   [1 3 4]]]\n",
      "\n",
      "\n",
      " [[[1 0 0]\n",
      "   [0 2 3]\n",
      "   [2 0 1]]\n",
      "\n",
      "  [[0 0 0]\n",
      "   [2 3 2]\n",
      "   [0 1 0]]\n",
      "\n",
      "  [[0 0 1]\n",
      "   [3 2 3]\n",
      "   [1 0 3]]\n",
      "\n",
      "  [[0 1 4]\n",
      "   [2 3 1]\n",
      "   [0 3 2]]\n",
      "\n",
      "  [[1 4 1]\n",
      "   [3 1 1]\n",
      "   [3 2 2]]\n",
      "\n",
      "  [[4 1 2]\n",
      "   [1 1 1]\n",
      "   [2 2 3]]\n",
      "\n",
      "  [[1 2 1]\n",
      "   [1 1 3]\n",
      "   [2 3 1]]\n",
      "\n",
      "  [[2 1 0]\n",
      "   [1 3 4]\n",
      "   [3 1 2]]]\n",
      "\n",
      "\n",
      " [[[0 2 3]\n",
      "   [2 0 1]\n",
      "   [1 4 3]]\n",
      "\n",
      "  [[2 3 2]\n",
      "   [0 1 0]\n",
      "   [4 3 0]]\n",
      "\n",
      "  [[3 2 3]\n",
      "   [1 0 3]\n",
      "   [3 0 4]]\n",
      "\n",
      "  [[2 3 1]\n",
      "   [0 3 2]\n",
      "   [0 4 2]]\n",
      "\n",
      "  [[3 1 1]\n",
      "   [3 2 2]\n",
      "   [4 2 3]]\n",
      "\n",
      "  [[1 1 1]\n",
      "   [2 2 3]\n",
      "   [2 3 4]]\n",
      "\n",
      "  [[1 1 3]\n",
      "   [2 3 1]\n",
      "   [3 4 3]]\n",
      "\n",
      "  [[1 3 4]\n",
      "   [3 1 2]\n",
      "   [4 3 1]]]\n",
      "\n",
      "\n",
      " [[[2 0 1]\n",
      "   [1 4 3]\n",
      "   [3 4 4]]\n",
      "\n",
      "  [[0 1 0]\n",
      "   [4 3 0]\n",
      "   [4 4 2]]\n",
      "\n",
      "  [[1 0 3]\n",
      "   [3 0 4]\n",
      "   [4 2 3]]\n",
      "\n",
      "  [[0 3 2]\n",
      "   [0 4 2]\n",
      "   [2 3 2]]\n",
      "\n",
      "  [[3 2 2]\n",
      "   [4 2 3]\n",
      "   [3 2 0]]\n",
      "\n",
      "  [[2 2 3]\n",
      "   [2 3 4]\n",
      "   [2 0 2]]\n",
      "\n",
      "  [[2 3 1]\n",
      "   [3 4 3]\n",
      "   [0 2 4]]\n",
      "\n",
      "  [[3 1 2]\n",
      "   [4 3 1]\n",
      "   [2 4 2]]]\n",
      "\n",
      "\n",
      " [[[1 4 3]\n",
      "   [3 4 4]\n",
      "   [1 0 2]]\n",
      "\n",
      "  [[4 3 0]\n",
      "   [4 4 2]\n",
      "   [0 2 1]]\n",
      "\n",
      "  [[3 0 4]\n",
      "   [4 2 3]\n",
      "   [2 1 4]]\n",
      "\n",
      "  [[0 4 2]\n",
      "   [2 3 2]\n",
      "   [1 4 0]]\n",
      "\n",
      "  [[4 2 3]\n",
      "   [3 2 0]\n",
      "   [4 0 2]]\n",
      "\n",
      "  [[2 3 4]\n",
      "   [2 0 2]\n",
      "   [0 2 0]]\n",
      "\n",
      "  [[3 4 3]\n",
      "   [0 2 4]\n",
      "   [2 0 3]]\n",
      "\n",
      "  [[4 3 1]\n",
      "   [2 4 2]\n",
      "   [0 3 3]]]]\n"
     ]
    }
   ],
   "source": [
    "from numpy.lib import stride_tricks\n",
    "t16 = np.random.randint(0,5,(10,10))\n",
    "n = 3\n",
    "i = 1 + (t16.shape[0] - n)\n",
    "j = 1 + (t16.shape[1] - n)\n",
    "C = stride_tricks.as_strided(t16, shape=(i, j, n, n), strides=t16.strides + t16.strides)\n",
    "print(C)"
   ]
  },
  {
   "cell_type": "code",
   "execution_count": 28,
   "metadata": {},
   "outputs": [
    {
     "name": "stdout",
     "output_type": "stream",
     "text": [
      "[[200.]\n",
      " [200.]\n",
      " [200.]\n",
      " [200.]\n",
      " [200.]\n",
      " [200.]\n",
      " [200.]\n",
      " [200.]\n",
      " [200.]\n",
      " [200.]\n",
      " [200.]\n",
      " [200.]\n",
      " [200.]\n",
      " [200.]\n",
      " [200.]\n",
      " [200.]\n",
      " [200.]\n",
      " [200.]\n",
      " [200.]\n",
      " [200.]]\n"
     ]
    }
   ],
   "source": [
    "p, n = 10, 20\n",
    "M = np.ones((p,n,n))\n",
    "V = np.ones((p,n,1))\n",
    "S = np.tensordot(M, V, axes=[[0, 2], [0, 1]])\n",
    "print(S)"
   ]
  },
  {
   "cell_type": "code",
   "execution_count": 29,
   "metadata": {},
   "outputs": [],
   "source": [
    "Z = np.ones((16,16))\n",
    "k = 4\n",
    "S = np.add.reduceat(np.add.reduceat(Z, np.arange(0, Z.shape[0], k), axis=0),\n",
    "                                       np.arange(0, Z.shape[1], k), axis=1)"
   ]
  },
  {
   "cell_type": "code",
   "execution_count": 30,
   "metadata": {},
   "outputs": [
    {
     "name": "stdout",
     "output_type": "stream",
     "text": [
      "[9997 9999 9996 9998 9995]\n"
     ]
    }
   ],
   "source": [
    "Z = np.arange(10000)\n",
    "np.random.shuffle(Z)\n",
    "n = 5\n",
    "\n",
    "print (Z[np.argpartition(-Z,n)[:n]])"
   ]
  },
  {
   "cell_type": "code",
   "execution_count": 17,
   "metadata": {},
   "outputs": [
    {
     "name": "stdout",
     "output_type": "stream",
     "text": [
      "[[1 4 6]\n",
      " [1 4 7]\n",
      " [1 5 6]\n",
      " [1 5 7]\n",
      " [2 4 6]\n",
      " [2 4 7]\n",
      " [2 5 6]\n",
      " [2 5 7]\n",
      " [3 4 6]\n",
      " [3 4 7]\n",
      " [3 5 6]\n",
      " [3 5 7]]\n"
     ]
    }
   ],
   "source": [
    "def cartesian(arrays):\n",
    "    arrays = [np.asarray(a) for a in arrays]\n",
    "    shape = map(len, arrays)\n",
    "\n",
    "    ix = np.indices(shape, dtype=int)\n",
    "    ix = ix.reshape(len(arrays), -1).T\n",
    "\n",
    "    for n, arr in enumerate(arrays):\n",
    "        ix[:, n] = arrays[n][ix[:, n]]\n",
    "\n",
    "    return ix\n",
    "\n",
    "print(cartesian(([1, 2, 3], [4, 5], [6, 7])))"
   ]
  },
  {
   "cell_type": "code",
   "execution_count": 18,
   "metadata": {},
   "outputs": [
    {
     "name": "stdout",
     "output_type": "stream",
     "text": [
      "[0 2 3 4]\n"
     ]
    }
   ],
   "source": [
    "A = np.random.randint(0,5,(8,3))\n",
    "B = np.random.randint(0,5,(2,2))\n",
    "\n",
    "C = (A[..., np.newaxis, np.newaxis] == B)\n",
    "rows = (C.sum(axis=(1,2,3)) >= B.shape[1]).nonzero()[0]\n",
    "print(rows)"
   ]
  },
  {
   "cell_type": "code",
   "execution_count": 19,
   "metadata": {},
   "outputs": [
    {
     "name": "stdout",
     "output_type": "stream",
     "text": [
      "[[3 2 3]\n",
      " [1 2 0]\n",
      " [0 4 2]\n",
      " [1 1 1]\n",
      " [4 1 3]\n",
      " [4 1 1]\n",
      " [3 0 1]\n",
      " [0 0 1]\n",
      " [4 3 1]\n",
      " [4 3 2]]\n",
      "[[3 2 3]\n",
      " [1 2 0]\n",
      " [0 4 2]\n",
      " [4 1 3]\n",
      " [4 1 1]\n",
      " [3 0 1]\n",
      " [0 0 1]\n",
      " [4 3 1]\n",
      " [4 3 2]]\n"
     ]
    }
   ],
   "source": [
    "Z = np.random.randint(0,5,(10,3))\n",
    "E = np.logical_and.reduce(Z[:,1:] == Z[:,:-1], axis=1)\n",
    "U = Z[~E]\n",
    "print(Z)\n",
    "print(U)"
   ]
  },
  {
   "cell_type": "code",
   "execution_count": 20,
   "metadata": {},
   "outputs": [
    {
     "name": "stdout",
     "output_type": "stream",
     "text": [
      "[[0 0 0 0 0 0 0 0]\n",
      " [0 0 0 0 0 0 0 1]\n",
      " [0 0 0 0 0 0 1 0]\n",
      " [0 0 0 0 0 0 1 1]\n",
      " [0 0 0 0 1 1 1 1]\n",
      " [0 0 0 1 0 0 0 0]\n",
      " [0 0 1 0 0 0 0 0]\n",
      " [0 1 0 0 0 0 0 0]\n",
      " [1 0 0 0 0 0 0 0]]\n"
     ]
    }
   ],
   "source": [
    "I = np.array([0, 1, 2, 3, 15, 16, 32, 64, 128], dtype=np.uint8)\n",
    "print(np.unpackbits(I[:, np.newaxis], axis=1))"
   ]
  },
  {
   "cell_type": "code",
   "execution_count": 26,
   "metadata": {},
   "outputs": [
    {
     "name": "stdout",
     "output_type": "stream",
     "text": [
      "[[0 0 0]\n",
      " [0 1 1]\n",
      " [1 0 0]\n",
      " [1 0 1]\n",
      " [1 1 1]]\n"
     ]
    }
   ],
   "source": [
    "Z = np.random.randint(0, 2, (6,3))\n",
    "T = np.ascontiguousarray(Z).view(np.dtype((np.void, Z.dtype.itemsize * Z.shape[1])))\n",
    "_, idx = np.unique(T, return_index=True)\n",
    "uZ = Z[idx]\n",
    "print(uZ)"
   ]
  },
  {
   "cell_type": "code",
   "execution_count": 27,
   "metadata": {},
   "outputs": [
    {
     "data": {
      "text/plain": [
       "array([[0.42849133, 0.28377504, 0.30364353, 0.22281065, 0.41994631,\n",
       "        0.14900183, 0.03604319, 0.6095006 , 0.46966261, 0.7405524 ],\n",
       "       [0.44008155, 0.29145084, 0.31185675, 0.22883743, 0.4313054 ,\n",
       "        0.15303216, 0.03701812, 0.62598692, 0.48236647, 0.76058353],\n",
       "       [0.11217282, 0.07428819, 0.07948947, 0.0583286 , 0.10993585,\n",
       "        0.03900652, 0.00943559, 0.15955842, 0.12295086, 0.19386588],\n",
       "       [0.39458012, 0.26131681, 0.2796129 , 0.2051772 , 0.38671136,\n",
       "        0.13720968, 0.0331907 , 0.56126415, 0.43249307, 0.68194438],\n",
       "       [0.01425101, 0.00943795, 0.01009875, 0.00741037, 0.01396682,\n",
       "        0.00495559, 0.00119875, 0.02027112, 0.01562031, 0.02462972],\n",
       "       [0.45430789, 0.30087245, 0.32193802, 0.23623497, 0.44524803,\n",
       "        0.15797917, 0.03821479, 0.64622295, 0.49795974, 0.7851706 ],\n",
       "       [0.07108427, 0.04707666, 0.05037273, 0.03696301, 0.0696667 ,\n",
       "        0.02471855, 0.00597936, 0.10111267, 0.07791435, 0.12285342],\n",
       "       [0.20469957, 0.13556547, 0.14505708, 0.10644146, 0.20061743,\n",
       "        0.07118139, 0.01721861, 0.29117161, 0.22436798, 0.35377789],\n",
       "       [0.40714694, 0.26963938, 0.28851817, 0.2117118 , 0.39902757,\n",
       "        0.14157961, 0.03424778, 0.57913961, 0.44626736, 0.70366334],\n",
       "       [0.34244894, 0.22679213, 0.24267097, 0.17806958, 0.33561979,\n",
       "        0.1190818 , 0.02880561, 0.48711099, 0.3753529 , 0.59184718]])"
      ]
     },
     "execution_count": 27,
     "metadata": {},
     "output_type": "execute_result"
    }
   ],
   "source": [
    "a = np.random.uniform(0,1,10)\n",
    "b = np.random.uniform(0,1,10)\n",
    "\n",
    "np.einsum('i->', a)       # np.sum(A)\n",
    "np.einsum('i,i->i', a, b) # A * B\n",
    "np.einsum('i,i', a, b)    # np.inner(A, B)\n",
    "np.einsum('i,j->ij', a, b)    # np.outer(A, B)"
   ]
  },
  {
   "cell_type": "code",
   "execution_count": null,
   "metadata": {},
   "outputs": [],
   "source": []
  }
 ],
 "metadata": {
  "kernelspec": {
   "display_name": "Python 3",
   "language": "python",
   "name": "python3"
  },
  "language_info": {
   "codemirror_mode": {
    "name": "ipython",
    "version": 3
   },
   "file_extension": ".py",
   "mimetype": "text/x-python",
   "name": "python",
   "nbconvert_exporter": "python",
   "pygments_lexer": "ipython3",
   "version": "3.7.3"
  }
 },
 "nbformat": 4,
 "nbformat_minor": 2
}

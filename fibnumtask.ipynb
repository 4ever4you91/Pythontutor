{
 "cells": [
  {
   "cell_type": "code",
   "execution_count": 17,
   "metadata": {},
   "outputs": [
    {
     "name": "stdout",
     "output_type": "stream",
     "text": [
      "quantity of apples: 34\n",
      "quantity of kids: 32\n",
      "2\n"
     ]
    }
   ],
   "source": [
    "def apples(n,k):\n",
    "    if k%n != 0:\n",
    "        return  k%n\n",
    "def main():\n",
    "    apl = int(input('quantity of apples: '))\n",
    "    kid = int(input('quantity of kids: '))\n",
    "    print(apples(kid, apl))\n",
    "if __name__ == '__main__':\n",
    "    main()\n",
    "    "
   ]
  },
  {
   "cell_type": "code",
   "execution_count": 40,
   "metadata": {
    "scrolled": true
   },
   "outputs": [
    {
     "name": "stdout",
     "output_type": "stream",
     "text": [
      "yes\n"
     ]
    }
   ],
   "source": [
    "def aimplace(arg, point):\n",
    "    for i in [-2, 2]:\n",
    "        for k in [1, -1]:\n",
    "            if [arg[0]+i, arg[1]+k] == point or [arg[0]+k,arg[1]+i] == point:\n",
    "                return 'yes'\n",
    "            else:\n",
    "                continue\n",
    "    return 'no'        \n",
    "        \n",
    "def main():\n",
    "    cell = [2,5]\n",
    "    start = [1,7]\n",
    "    print(aimplace(start, cell))\n",
    "if __name__ == '__main__':\n",
    "    main()\n",
    "    \n",
    "    \n",
    "        "
   ]
  },
  {
   "cell_type": "code",
   "execution_count": 42,
   "metadata": {
    "scrolled": true
   },
   "outputs": [
    {
     "name": "stdout",
     "output_type": "stream",
     "text": [
      "31.025\n"
     ]
    }
   ],
   "source": [
    "def time(h,m,s):\n",
    "    angle = h*30+m*0.5+s*0.5/60\n",
    "    return angle\n",
    "def main():\n",
    "    print(time(1,2,3))\n",
    "if __name__ == '__main__':\n",
    "    main()"
   ]
  },
  {
   "cell_type": "code",
   "execution_count": 48,
   "metadata": {},
   "outputs": [
    {
     "name": "stdout",
     "output_type": "stream",
     "text": [
      "153\n"
     ]
    }
   ],
   "source": [
    "def sumfac(num):\n",
    "    m=1\n",
    "    for n in range(num,1,-1):    \n",
    "        i = 1\n",
    "        for k in range(n,1,-1):\n",
    "            i= i*k    \n",
    "        m=m+i\n",
    "    return m    \n",
    "def main():\n",
    "    print(sumfac(5))\n",
    "if __name__ == '__main__':\n",
    "    main()"
   ]
  },
  {
   "cell_type": "code",
   "execution_count": 56,
   "metadata": {},
   "outputs": [
    {
     "name": "stdout",
     "output_type": "stream",
     "text": [
      "it`s one in one\n"
     ]
    }
   ],
   "source": [
    "print('it`s 1 in 1'.replace('1', 'one'))"
   ]
  },
  {
   "cell_type": "code",
   "execution_count": 63,
   "metadata": {},
   "outputs": [
    {
     "name": "stdout",
     "output_type": "stream",
     "text": [
      "10\n"
     ]
    }
   ],
   "source": [
    "def fibnum(num):\n",
    "    fib = 0 \n",
    "    i = 1\n",
    "    while fib <= num:\n",
    "        fib=fib+i\n",
    "        if fib == num:\n",
    "            return i\n",
    "        i=i+1    \n",
    "    return -1        \n",
    "print(fibnum(55))  "
   ]
  },
  {
   "cell_type": "code",
   "execution_count": 68,
   "metadata": {
    "scrolled": true
   },
   "outputs": [
    {
     "name": "stdout",
     "output_type": "stream",
     "text": [
      " 2 4\n"
     ]
    }
   ],
   "source": [
    "def list (*args):\n",
    "    mass = ''\n",
    "    for i in range(len(args)):\n",
    "        if args[i] %2 == 0:\n",
    "            mass = mass + ' ' + str(args[i])\n",
    "    return mass\n",
    "print(list(1,2,3,4)) "
   ]
  },
  {
   "cell_type": "code",
   "execution_count": 85,
   "metadata": {},
   "outputs": [
    {
     "ename": "SyntaxError",
     "evalue": "invalid syntax (<ipython-input-85-5a3e090495f0>, line 5)",
     "output_type": "error",
     "traceback": [
      "\u001b[1;36m  File \u001b[1;32m\"<ipython-input-85-5a3e090495f0>\"\u001b[1;36m, line \u001b[1;32m5\u001b[0m\n\u001b[1;33m    if i =< 0:\u001b[0m\n\u001b[1;37m         ^\u001b[0m\n\u001b[1;31mSyntaxError\u001b[0m\u001b[1;31m:\u001b[0m invalid syntax\n"
     ]
    }
   ],
   "source": [
    "def order (*args):\n",
    "    i=0\n",
    "    for i in range(len(args)):\n",
    "        print(i)    \n",
    "    if i =< 0:\n",
    "            return order(args[i-1])\n",
    "print(order(1,3,5))            \n",
    "        "
   ]
  },
  {
   "cell_type": "code",
   "execution_count": null,
   "metadata": {},
   "outputs": [],
   "source": [
    " table = [[i for i in range(1,9)]for k in range(1,9)]"
   ]
  }
 ],
 "metadata": {
  "kernelspec": {
   "display_name": "Python 3",
   "language": "python",
   "name": "python3"
  },
  "language_info": {
   "codemirror_mode": {
    "name": "ipython",
    "version": 3
   },
   "file_extension": ".py",
   "mimetype": "text/x-python",
   "name": "python",
   "nbconvert_exporter": "python",
   "pygments_lexer": "ipython3",
   "version": "3.7.3"
  }
 },
 "nbformat": 4,
 "nbformat_minor": 2
}

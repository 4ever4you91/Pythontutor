{
 "cells": [
  {
   "cell_type": "code",
   "execution_count": null,
   "metadata": {},
   "outputs": [],
   "source": [
    "def sec (*args):\n",
    "    m = 0\n",
    "    n = 0\n",
    "    while n < len(args):\n",
    "        if args[n] % 2 == 0:\n",
    "            m = m + 1\n",
    "        n= n +1\n",
    "    return m\n",
    "print (sec(2, 3, 4, 1, 13))"
   ]
  },
  {
   "cell_type": "code",
   "execution_count": null,
   "metadata": {},
   "outputs": [],
   "source": [
    "def kagg():\n",
    "    k, n = map(int, input().split())\n",
    "    arr = []\n",
    "    for i in range(k):\n",
    "        arr.append('I')\n",
    "    throw_arr = []\n",
    "    for i in range(n):\n",
    "        throw1, throw2 = map(int, input().split())\n",
    "        throw_arr = []\n",
    "        for l in range(throw1 - 1, throw2):\n",
    "            throw_arr.append(l) \n",
    "            for k in throw_arr:\n",
    "                arr[k] = '.'\n",
    "    return ''.join(arr)  \n",
    "print (kagg())       "
   ]
  },
  {
   "cell_type": "code",
   "execution_count": null,
   "metadata": {},
   "outputs": [],
   "source": [
    "import math\n",
    "def distance(x1, y1, x2, y2):\n",
    "    return math.sqrt((x1 - x2)**2 + (y1 - y2)**2)\n",
    "print(distance(0, 0, 1, 0))\n"
   ]
  },
  {
   "cell_type": "code",
   "execution_count": null,
   "metadata": {},
   "outputs": [],
   "source": [
    "line, col = map (int,input().split())\n",
    "a = []\n",
    "for i in range(line):\n",
    "    insert = list(map(int, input().split()))\n",
    "    a.append(insert)  \n",
    "i, j = map(int, input().split())    \n",
    "def swap_column(a, i, j):\n",
    "    int_arr = []\n",
    "    for k in range(len(a)):\n",
    "        b = a[k][i]\n",
    "        a[k][i] = a[k][j]\n",
    "        a[k][j] = b\n",
    "swap_column(a, 0, 1)\n",
    "for k in range(len(a)):\n",
    "    print()\n",
    "    for l in a[k]:\n",
    "        print(l, end = ' ')"
   ]
  },
  {
   "cell_type": "code",
   "execution_count": null,
   "metadata": {},
   "outputs": [],
   "source": [
    "text = input()\n",
    "arr = text.split(\" \")\n",
    "mnozh = set(arr[1:])\n",
    "print(len(mnozh))"
   ]
  },
  {
   "cell_type": "code",
   "execution_count": null,
   "metadata": {},
   "outputs": [],
   "source": [
    "quant = int(input())\n",
    "slov = {}\n",
    "for i in range(quant):\n",
    "    key, value =map(str, input().split())\n",
    "    slov[key] = value\n",
    "    slov[value] = key\n",
    "request = input()\n",
    "try:\n",
    "    print(slov[request])\n",
    "except KeyError:\n",
    "    print('No value')\n",
    "\n"
   ]
  }
 ],
 "metadata": {
  "kernelspec": {
   "display_name": "Python 3",
   "language": "python",
   "name": "python3"
  },
  "language_info": {
   "codemirror_mode": {
    "name": "ipython",
    "version": 3
   },
   "file_extension": ".py",
   "mimetype": "text/x-python",
   "name": "python",
   "nbconvert_exporter": "python",
   "pygments_lexer": "ipython3",
   "version": "3.7.3"
  }
 },
 "nbformat": 4,
 "nbformat_minor": 2
}

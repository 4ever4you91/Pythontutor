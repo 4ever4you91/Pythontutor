{
 "cells": [
  {
   "cell_type": "code",
   "execution_count": 13,
   "metadata": {},
   "outputs": [],
   "source": [
    "import numpy as np\n",
    "import pandas as pd\n",
    "import sys"
   ]
  },
  {
   "cell_type": "code",
   "execution_count": 44,
   "metadata": {},
   "outputs": [],
   "source": [
    "object1 = pd.Series([1,2,3,4,5])\n",
    "object2 = pd.Series(np.array([1,2,3,4,5]))\n",
    "object3 = pd.Series({'1':'a', '2': 'b', '3': 'c'})"
   ]
  },
  {
   "cell_type": "code",
   "execution_count": 45,
   "metadata": {},
   "outputs": [],
   "source": [
    "a1 = object3.to_frame()"
   ]
  },
  {
   "cell_type": "code",
   "execution_count": 54,
   "metadata": {},
   "outputs": [],
   "source": [
    "a2 = pd.Series(list('abc'))\n",
    "a3 = pd.Series(np.array([1,2,3]))\n",
    "dfr = pd.DataFrame({'column1':a2, 'column2': a3})"
   ]
  },
  {
   "cell_type": "code",
   "execution_count": 62,
   "metadata": {},
   "outputs": [],
   "source": [
    "a4 = list('hello')\n",
    "a5 = pd.Series(a4)\n",
    "a5.name = 'greeting'"
   ]
  },
  {
   "cell_type": "code",
   "execution_count": 126,
   "metadata": {},
   "outputs": [
    {
     "name": "stdout",
     "output_type": "stream",
     "text": [
      "0    9\n",
      "1    5\n",
      "3    1\n",
      "5    2\n",
      "9    9\n",
      "dtype: int32\n"
     ]
    },
    {
     "data": {
      "text/plain": [
       "array([1, 2, 5, 9])"
      ]
     },
     "execution_count": 126,
     "metadata": {},
     "output_type": "execute_result"
    }
   ],
   "source": [
    "a6 = np.random.randint(0,10,10)\n",
    "a7 = np.random.randint(0,10,5)\n",
    "sa6 = pd.Series(a6)\n",
    "sa7 = pd.Series(a7)\n",
    "res1 = sa6[~sa6.isin(sa7)]\n",
    "print(res1)\n",
    "no_ind = np.setdiff1d(a6,a7)\n",
    "no_ind"
   ]
  },
  {
   "cell_type": "code",
   "execution_count": 123,
   "metadata": {},
   "outputs": [
    {
     "data": {
      "text/plain": [
       "0    0\n",
       "1    3\n",
       "3    5\n",
       "5    7\n",
       "dtype: int32"
      ]
     },
     "execution_count": 123,
     "metadata": {},
     "output_type": "execute_result"
    }
   ],
   "source": [
    "a_int = pd.Series(np.intersect1d(a6,a7))\n",
    "a_un = pd.Series(np.union1d(a6,a7))\n",
    "res2 = a_un[~a_un.isin(a_int)]\n",
    "res2"
   ]
  }
 ],
 "metadata": {
  "kernelspec": {
   "display_name": "Python 3",
   "language": "python",
   "name": "python3"
  },
  "language_info": {
   "codemirror_mode": {
    "name": "ipython",
    "version": 3
   },
   "file_extension": ".py",
   "mimetype": "text/x-python",
   "name": "python",
   "nbconvert_exporter": "python",
   "pygments_lexer": "ipython3",
   "version": "3.7.1"
  }
 },
 "nbformat": 4,
 "nbformat_minor": 2
}

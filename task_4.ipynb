{
 "cells": [
  {
   "cell_type": "code",
   "execution_count": 1,
   "metadata": {},
   "outputs": [
    {
     "data": {
      "text/plain": [
       "array([[17.48245066, 19.6744417 ],\n",
       "       [19.10339637, 22.06096452],\n",
       "       [24.33724329, 31.23431802],\n",
       "       [ 7.81381713,  9.51675576],\n",
       "       [14.6747555 , 16.58860131]])"
      ]
     },
     "execution_count": 1,
     "metadata": {},
     "output_type": "execute_result"
    }
   ],
   "source": [
    "import numpy as np\n",
    "t1 = np.random.randint(1, 20,(5,3))\n",
    "t2 = np.random.random_sample((3,2))\n",
    "np.dot(t1,t2)"
   ]
  },
  {
   "cell_type": "code",
   "execution_count": 66,
   "metadata": {},
   "outputs": [
    {
     "data": {
      "text/plain": [
       "array([-6,  8, -6,  3,  3, -6, -7,  1,  2,  1,  1,  9, -5,  3, -7,  8,  9,\n",
       "       -6, -4,  2, -6, -5,  1,  9, -4, -7, -7,  8,  1, -7])"
      ]
     },
     "execution_count": 66,
     "metadata": {},
     "output_type": "execute_result"
    }
   ],
   "source": [
    "t3 = np.random.randint(1,10,30)\n",
    "t4 = np.logical_and(t3 >3 , t3<8)\n",
    "t3[t4] = t3[t4]*-1\n",
    "t3\n",
    "        \n",
    "    \n"
   ]
  },
  {
   "cell_type": "code",
   "execution_count": 180,
   "metadata": {},
   "outputs": [
    {
     "data": {
      "text/plain": [
       "array([9, 9, 2, 5, 2, 3, 2, 5, 5, 2])"
      ]
     },
     "execution_count": 180,
     "metadata": {},
     "output_type": "execute_result"
    }
   ],
   "source": [
    "t5 = np.arange(0,5)\n",
    "t6 = np.ones((5,5))\n",
    "for i in range(len(t6)):\n",
    "    t6[i] = t5\n",
    "t6"
   ]
  },
  {
   "cell_type": "code",
   "execution_count": 122,
   "metadata": {},
   "outputs": [
    {
     "data": {
      "text/plain": [
       "array([0., 1., 2., 3., 4.])"
      ]
     },
     "execution_count": 122,
     "metadata": {},
     "output_type": "execute_result"
    }
   ],
   "source": [
    "def gen ():\n",
    "    for i in range(5):\n",
    "        yield i\n",
    "t7 = np.fromiter(gen(), dtype = float)  \n",
    "t7\n",
    "        "
   ]
  },
  {
   "cell_type": "code",
   "execution_count": 127,
   "metadata": {},
   "outputs": [
    {
     "data": {
      "text/plain": [
       "array([0.09090909, 0.18181818, 0.27272727, 0.36363636, 0.45454545,\n",
       "       0.54545455, 0.63636364, 0.72727273, 0.81818182, 0.90909091])"
      ]
     },
     "execution_count": 127,
     "metadata": {},
     "output_type": "execute_result"
    }
   ],
   "source": [
    "t8 = np.linspace(0, 1, 12)[1:-1]\n",
    "t8"
   ]
  },
  {
   "cell_type": "code",
   "execution_count": 178,
   "metadata": {},
   "outputs": [
    {
     "data": {
      "text/plain": [
       "array([9, 9, 2, 5, 2, 3, 2, 5, 5, 2])"
      ]
     },
     "execution_count": 178,
     "metadata": {},
     "output_type": "execute_result"
    }
   ],
   "source": [
    "t9 = np.random.random_sample(10)\n",
    "t9.sort()\n",
    "t9"
   ]
  },
  {
   "cell_type": "code",
   "execution_count": 189,
   "metadata": {},
   "outputs": [
    {
     "data": {
      "text/plain": [
       "True"
      ]
     },
     "execution_count": 189,
     "metadata": {},
     "output_type": "execute_result"
    }
   ],
   "source": [
    "t11 = np.random.randint(1,10, 10)\n",
    "t12 = np.copy(t11)\n",
    "all(t12 == t11)\n"
   ]
  },
  {
   "cell_type": "code",
   "execution_count": 219,
   "metadata": {},
   "outputs": [],
   "source": [
    "t13 = np.random.random(5)\n",
    "t13.flags.writeable = False\n",
    "\n"
   ]
  },
  {
   "cell_type": "code",
   "execution_count": 41,
   "metadata": {},
   "outputs": [
    {
     "data": {
      "text/plain": [
       "array([[19.6977156 ,  0.41822433],\n",
       "       [23.34523506,  0.81569192],\n",
       "       [13.03840481,  1.49402444],\n",
       "       [13.89244399,  0.52807445],\n",
       "       [16.2788206 ,  0.74194727],\n",
       "       [20.1246118 ,  0.46364761],\n",
       "       [ 7.        ,  1.57079633],\n",
       "       [17.20465053,  0.95054684],\n",
       "       [13.41640786,  1.10714872],\n",
       "       [18.43908891,  0.70862627]])"
      ]
     },
     "execution_count": 41,
     "metadata": {},
     "output_type": "execute_result"
    }
   ],
   "source": [
    "t14 = np.random.randint(0,20,(10,2))\n",
    "radius = np.sqrt(t14.take(0,axis = 1)**2+t14.take(1, axis = 1)**2)\n",
    "cos = t14.take(0, axis = 1)/ radius\n",
    "arc = np.arccos(cos)\n",
    "polar = np.stack([radius,arc], axis = 1)\n",
    "polar"
   ]
  },
  {
   "cell_type": "code",
   "execution_count": 59,
   "metadata": {},
   "outputs": [
    {
     "data": {
      "text/plain": [
       "array([0.24281871, 0.84495694, 0.6584546 , 0.        , 0.21314206,\n",
       "       0.42109189, 0.15154927, 0.6160523 , 0.79201673, 0.87604886])"
      ]
     },
     "execution_count": 59,
     "metadata": {},
     "output_type": "execute_result"
    }
   ],
   "source": [
    "t15 = np.random.random(10)\n",
    "t15[t15.argmax()] = 0\n",
    "t15        "
   ]
  },
  {
   "cell_type": "code",
   "execution_count": 14,
   "metadata": {},
   "outputs": [
    {
     "data": {
      "text/plain": [
       "[<matplotlib.lines.Line2D at 0x2193d03aac8>,\n",
       " <matplotlib.lines.Line2D at 0x2193d03abe0>,\n",
       " <matplotlib.lines.Line2D at 0x2193d03ad30>,\n",
       " <matplotlib.lines.Line2D at 0x2193d03ae80>,\n",
       " <matplotlib.lines.Line2D at 0x2193d03afd0>,\n",
       " <matplotlib.lines.Line2D at 0x2193d041160>,\n",
       " <matplotlib.lines.Line2D at 0x2193d0412b0>,\n",
       " <matplotlib.lines.Line2D at 0x2193d041400>,\n",
       " <matplotlib.lines.Line2D at 0x2193d041550>,\n",
       " <matplotlib.lines.Line2D at 0x2193d0416a0>]"
      ]
     },
     "execution_count": 14,
     "metadata": {},
     "output_type": "execute_result"
    },
    {
     "data": {
      "image/png": "[encoded data removed]",
      "text/plain": [
       "<Figure size 432x288 with 1 Axes>"
      ]
     },
     "metadata": {
      "needs_background": "light"
     },
     "output_type": "display_data"
    }
   ],
   "source": [
    "import matplotlib.pyplot as plt\n",
    "t16,t17 = np.meshgrid(np.linspace(0,1,10),\n",
    "                             np.linspace(0,1,10))\n",
    "plt.plot(t16,t17, marker = '.', linestyle = 'None')\n"
   ]
  },
  {
   "cell_type": "code",
   "execution_count": 16,
   "metadata": {},
   "outputs": [
    {
     "name": "stdout",
     "output_type": "stream",
     "text": [
      "33961.93294480225\n"
     ]
    }
   ],
   "source": [
    "t18 = np.arange(10)\n",
    "t19 = t18 + 0.5\n",
    "t20 = 1.0/np.subtract.outer(t18,t19)\n",
    "print(np.linalg.det(t20))"
   ]
  },
  {
   "cell_type": "code",
   "execution_count": 19,
   "metadata": {},
   "outputs": [
    {
     "name": "stdout",
     "output_type": "stream",
     "text": [
      "127\n",
      "-128\n",
      "2147483647\n",
      "-2147483648\n",
      "9223372036854775807\n",
      "-9223372036854775808\n",
      "-3.4028235e+38\n",
      "3.4028235e+38\n",
      "1.1920929e-07\n",
      "-1.7976931348623157e+308\n",
      "1.7976931348623157e+308\n",
      "2.220446049250313e-16\n"
     ]
    }
   ],
   "source": [
    "for dtype in [np.int8, np.int32, np.int64]:\n",
    "    print(np.iinfo(dtype).max)\n",
    "    print(np.iinfo(dtype).min)\n",
    "for dtype in [np.float32, np.float64]:\n",
    "    print(np.finfo(dtype).min)\n",
    "    print(np.finfo(dtype).max)\n",
    "    print(np.finfo(dtype).eps)"
   ]
  },
  {
   "cell_type": "code",
   "execution_count": 26,
   "metadata": {},
   "outputs": [
    {
     "data": {
      "text/plain": [
       "array([[0., 0., 0., 0., 0., 0., 0., 0., 0., 0., 0., 0., 0., 0., 0., 0.,\n",
       "        0., 0., 0., 0.],\n",
       "       [0., 0., 0., 0., 0., 0., 0., 0., 0., 0., 0., 0., 0., 0., 0., 0.,\n",
       "        0., 0., 0., 0.],\n",
       "       [0., 0., 0., 0., 0., 0., 0., 0., 0., 0., 0., 0., 0., 0., 0., 0.,\n",
       "        0., 0., 0., 0.],\n",
       "       [0., 0., 0., 0., 0., 0., 0., 0., 0., 0., 0., 0., 0., 0., 0., 0.,\n",
       "        0., 0., 0., 0.],\n",
       "       [0., 0., 0., 0., 0., 0., 0., 0., 0., 0., 0., 0., 0., 0., 0., 0.,\n",
       "        0., 0., 0., 0.],\n",
       "       [0., 0., 0., 0., 0., 0., 0., 0., 0., 0., 0., 0., 0., 0., 0., 0.,\n",
       "        0., 0., 0., 0.],\n",
       "       [0., 0., 0., 0., 0., 0., 0., 0., 0., 0., 0., 0., 0., 0., 0., 0.,\n",
       "        0., 0., 0., 0.],\n",
       "       [0., 0., 0., 0., 0., 0., 0., 0., 0., 0., 0., 0., 0., 0., 0., 0.,\n",
       "        0., 0., 0., 0.],\n",
       "       [0., 0., 0., 0., 0., 0., 0., 0., 0., 0., 0., 0., 0., 0., 0., 0.,\n",
       "        0., 0., 0., 0.],\n",
       "       [0., 0., 0., 0., 0., 0., 0., 0., 0., 0., 0., 0., 0., 0., 0., 0.,\n",
       "        0., 0., 0., 0.],\n",
       "       [0., 0., 0., 0., 0., 0., 0., 0., 0., 0., 0., 0., 0., 0., 0., 0.,\n",
       "        0., 0., 0., 0.],\n",
       "       [0., 0., 0., 0., 0., 0., 0., 0., 0., 0., 0., 0., 0., 0., 0., 0.,\n",
       "        0., 0., 0., 0.],\n",
       "       [0., 0., 0., 0., 0., 0., 0., 0., 0., 0., 0., 0., 0., 0., 0., 0.,\n",
       "        0., 0., 0., 0.],\n",
       "       [0., 0., 0., 0., 0., 0., 0., 0., 0., 0., 0., 0., 0., 0., 0., 0.,\n",
       "        0., 0., 0., 0.],\n",
       "       [0., 0., 0., 0., 0., 0., 0., 0., 0., 0., 0., 0., 0., 0., 0., 0.,\n",
       "        0., 0., 0., 0.],\n",
       "       [0., 0., 0., 0., 0., 0., 0., 0., 0., 0., 0., 0., 0., 0., 0., 0.,\n",
       "        0., 0., 0., 0.],\n",
       "       [0., 0., 0., 0., 0., 0., 0., 0., 0., 0., 0., 0., 0., 0., 0., 0.,\n",
       "        0., 0., 0., 0.],\n",
       "       [0., 0., 0., 0., 0., 0., 0., 0., 0., 0., 0., 0., 0., 0., 0., 0.,\n",
       "        0., 0., 0., 0.],\n",
       "       [0., 0., 0., 0., 0., 0., 0., 0., 0., 0., 0., 0., 0., 0., 0., 0.,\n",
       "        0., 0., 0., 0.],\n",
       "       [0., 0., 0., 0., 0., 0., 0., 0., 0., 0., 0., 0., 0., 0., 0., 0.,\n",
       "        0., 0., 0., 0.]])"
      ]
     },
     "execution_count": 26,
     "metadata": {},
     "output_type": "execute_result"
    }
   ],
   "source": [
    "np.set_printoptions(threshold=np.inf)\n",
    "t21 = np.zeros((20,20))\n",
    "t21\n"
   ]
  },
  {
   "cell_type": "code",
   "execution_count": null,
   "metadata": {},
   "outputs": [],
   "source": []
  },
  {
   "cell_type": "code",
   "execution_count": 28,
   "metadata": {},
   "outputs": [
    {
     "data": {
      "text/plain": [
       "0.2289362306834093"
      ]
     },
     "execution_count": 28,
     "metadata": {},
     "output_type": "execute_result"
    }
   ],
   "source": [
    "t22 = np.arange(100)\n",
    "t23 = np.random.uniform(0,100)\n",
    "min_mean = (np.abs(t22-t23)).min()\n",
    "min_mean"
   ]
  },
  {
   "cell_type": "code",
   "execution_count": 32,
   "metadata": {},
   "outputs": [
    {
     "data": {
      "text/plain": [
       "array([((0., 0.), (0., 0., 0.)), ((0., 0.), (0., 0., 0.)),\n",
       "       ((0., 0.), (0., 0., 0.)), ((0., 0.), (0., 0., 0.)),\n",
       "       ((0., 0.), (0., 0., 0.)), ((0., 0.), (0., 0., 0.)),\n",
       "       ((0., 0.), (0., 0., 0.)), ((0., 0.), (0., 0., 0.)),\n",
       "       ((0., 0.), (0., 0., 0.)), ((0., 0.), (0., 0., 0.))],\n",
       "      dtype=[('position', [('x', '<f8'), ('y', '<f8')]), ('color', [('r', '<f8'), ('g', '<f8'), ('b', '<f8')])])"
      ]
     },
     "execution_count": 32,
     "metadata": {},
     "output_type": "execute_result"
    }
   ],
   "source": [
    "t24 = np.zeros(10, [ ('position', [ ('x', float, 1),\n",
    "                                   ('y', float, 1)]),\n",
    "                    ('color',    [ ('r', float, 1),\n",
    "                                   ('g', float, 1),\n",
    "                                   ('b', float, 1)])])\n",
    "t24"
   ]
  },
  {
   "cell_type": "code",
   "execution_count": 2,
   "metadata": {},
   "outputs": [
    {
     "data": {
      "text/plain": [
       "array([[0.        , 0.72476406, 0.2959637 , 0.40166346, 0.73979644,\n",
       "        0.46128531, 0.3947385 , 0.22821795, 0.26524157, 0.67617576],\n",
       "       [0.72476406, 0.        , 0.91853001, 0.59167033, 0.28822425,\n",
       "        0.35579635, 0.33055764, 0.69603063, 0.87404828, 0.5234141 ],\n",
       "       [0.2959637 , 0.91853001, 0.        , 0.69742912, 0.99727817,\n",
       "        0.72652976, 0.61314995, 0.22539839, 0.48984706, 0.68364174],\n",
       "       [0.40166346, 0.59167033, 0.69742912, 0.        , 0.45248083,\n",
       "        0.236418  , 0.3534122 , 0.57204558, 0.35956124, 0.83536861],\n",
       "       [0.73979644, 0.28822425, 0.99727817, 0.45248083, 0.        ,\n",
       "        0.27877783, 0.3957644 , 0.79798464, 0.80012696, 0.77690917],\n",
       "       [0.46128531, 0.35579635, 0.72652976, 0.236418  , 0.27877783,\n",
       "        0.        , 0.17494781, 0.54087663, 0.54046043, 0.65726   ],\n",
       "       [0.3947385 , 0.33055764, 0.61314995, 0.3534122 , 0.3957644 ,\n",
       "        0.17494781, 0.        , 0.40421708, 0.55784785, 0.49020069],\n",
       "       [0.22821795, 0.69603063, 0.22539839, 0.57204558, 0.79798464,\n",
       "        0.54087663, 0.40421708, 0.        , 0.49171967, 0.49190345],\n",
       "       [0.26524157, 0.87404828, 0.48984706, 0.35956124, 0.80012696,\n",
       "        0.54046043, 0.55784785, 0.49171967, 0.        , 0.92947396],\n",
       "       [0.67617576, 0.5234141 , 0.68364174, 0.83536861, 0.77690917,\n",
       "        0.65726   , 0.49020069, 0.49190345, 0.92947396, 0.        ]])"
      ]
     },
     "execution_count": 2,
     "metadata": {},
     "output_type": "execute_result"
    }
   ],
   "source": [
    "\n",
    "import scipy.spatial\n",
    "\n",
    "coord = np.random.random((10,2))\n",
    "dist = scipy.spatial.distance.cdist(coord,coord)\n",
    "dist"
   ]
  },
  {
   "cell_type": "code",
   "execution_count": 4,
   "metadata": {},
   "outputs": [
    {
     "data": {
      "text/plain": [
       "array([0., 1., 2., 3., 4., 5., 6., 7., 8., 9.], dtype=float32)"
      ]
     },
     "execution_count": 4,
     "metadata": {},
     "output_type": "execute_result"
    }
   ],
   "source": [
    "t26 = np.arange(10, dtype=np.int32)\n",
    "t26 = t26.astype(np.float32, copy=False)\n",
    "t26"
   ]
  },
  {
   "cell_type": "code",
   "execution_count": 7,
   "metadata": {},
   "outputs": [],
   "source": [
    "#file = np.genfromtxt(\"text.txt\", delimiter=\",\")"
   ]
  },
  {
   "cell_type": "code",
   "execution_count": 9,
   "metadata": {},
   "outputs": [
    {
     "name": "stdout",
     "output_type": "stream",
     "text": [
      "(0, 0) 0\n",
      "(0, 1) 1\n",
      "(0, 2) 2\n",
      "(1, 0) 3\n",
      "(1, 1) 4\n",
      "(1, 2) 5\n",
      "(2, 0) 6\n",
      "(2, 1) 7\n",
      "(2, 2) 8\n",
      "(0, 0) 0\n",
      "(0, 1) 1\n",
      "(0, 2) 2\n",
      "(1, 0) 3\n",
      "(1, 1) 4\n",
      "(1, 2) 5\n",
      "(2, 0) 6\n",
      "(2, 1) 7\n",
      "(2, 2) 8\n"
     ]
    }
   ],
   "source": [
    "t27 = np.arange(9).reshape(3,3)\n",
    "for index, value in np.ndenumerate(t27):\n",
    "    print(index, value)\n",
    "for index in np.ndindex(t27.shape):\n",
    "    print(index, t27[index])"
   ]
  },
  {
   "cell_type": "code",
   "execution_count": 10,
   "metadata": {},
   "outputs": [
    {
     "data": {
      "text/plain": [
       "array([[0.36787944, 0.44822088, 0.51979489, 0.57375342, 0.60279818,\n",
       "        0.60279818, 0.57375342, 0.51979489, 0.44822088, 0.36787944],\n",
       "       [0.44822088, 0.54610814, 0.63331324, 0.69905581, 0.73444367,\n",
       "        0.73444367, 0.69905581, 0.63331324, 0.54610814, 0.44822088],\n",
       "       [0.51979489, 0.63331324, 0.73444367, 0.81068432, 0.85172308,\n",
       "        0.85172308, 0.81068432, 0.73444367, 0.63331324, 0.51979489],\n",
       "       [0.57375342, 0.69905581, 0.81068432, 0.89483932, 0.9401382 ,\n",
       "        0.9401382 , 0.89483932, 0.81068432, 0.69905581, 0.57375342],\n",
       "       [0.60279818, 0.73444367, 0.85172308, 0.9401382 , 0.98773022,\n",
       "        0.98773022, 0.9401382 , 0.85172308, 0.73444367, 0.60279818],\n",
       "       [0.60279818, 0.73444367, 0.85172308, 0.9401382 , 0.98773022,\n",
       "        0.98773022, 0.9401382 , 0.85172308, 0.73444367, 0.60279818],\n",
       "       [0.57375342, 0.69905581, 0.81068432, 0.89483932, 0.9401382 ,\n",
       "        0.9401382 , 0.89483932, 0.81068432, 0.69905581, 0.57375342],\n",
       "       [0.51979489, 0.63331324, 0.73444367, 0.81068432, 0.85172308,\n",
       "        0.85172308, 0.81068432, 0.73444367, 0.63331324, 0.51979489],\n",
       "       [0.44822088, 0.54610814, 0.63331324, 0.69905581, 0.73444367,\n",
       "        0.73444367, 0.69905581, 0.63331324, 0.54610814, 0.44822088],\n",
       "       [0.36787944, 0.44822088, 0.51979489, 0.57375342, 0.60279818,\n",
       "        0.60279818, 0.57375342, 0.51979489, 0.44822088, 0.36787944]])"
      ]
     },
     "execution_count": 10,
     "metadata": {},
     "output_type": "execute_result"
    }
   ],
   "source": [
    "x, y = np.meshgrid(np.linspace(-1,1,10), np.linspace(-1,1,10))\n",
    "d = np.hypot(x, y)\n",
    "sigma, mu = 1.0, 0.0\n",
    "g = np.exp(-((d - mu) ** 2 / (2.0 * sigma ** 2)))\n",
    "g"
   ]
  },
  {
   "cell_type": "code",
   "execution_count": 13,
   "metadata": {},
   "outputs": [],
   "source": [
    "f = 10\n",
    "s = 3\n",
    "res = np.zeros((f,f))\n",
    "np.put(res, np.random.choice(range(f*f), s, replace=False), 1)"
   ]
  },
  {
   "cell_type": "code",
   "execution_count": 15,
   "metadata": {},
   "outputs": [
    {
     "data": {
      "text/plain": [
       "array([[ 0.09764063,  0.10105394,  0.37582962, -0.31377991, -0.12813503,\n",
       "        -0.33371148, -0.00597773, -0.31801587,  0.43481771,  0.09027811],\n",
       "       [-0.26239391, -0.00344956, -0.13358318,  0.17259608,  0.04116601,\n",
       "        -0.3309575 , -0.22041056,  0.29086012, -0.07062997,  0.51680248],\n",
       "       [ 0.37439514,  0.51450667,  0.06142804, -0.15338596,  0.05110291,\n",
       "         0.04306259, -0.04313271, -0.16882054, -0.38182858, -0.29732756],\n",
       "       [ 0.11648986, -0.07756241, -0.28205319, -0.27051339,  0.3025425 ,\n",
       "         0.34658206,  0.27824488, -0.52912611, -0.07593055,  0.19132636],\n",
       "       [-0.03766245,  0.41806248, -0.22313937, -0.11390556, -0.2152724 ,\n",
       "        -0.15405819, -0.09637962, -0.15338566,  0.16580551,  0.40993526]])"
      ]
     },
     "execution_count": 15,
     "metadata": {},
     "output_type": "execute_result"
    }
   ],
   "source": [
    "x = np.random.rand(5, 10)\n",
    "y = x - x.mean(axis=1, keepdims=True)\n",
    "y"
   ]
  },
  {
   "cell_type": "code",
   "execution_count": 25,
   "metadata": {},
   "outputs": [
    {
     "name": "stdout",
     "output_type": "stream",
     "text": [
      "[[5 7 5]\n",
      " [0 2 9]\n",
      " [5 2 7]]\n"
     ]
    },
    {
     "data": {
      "text/plain": [
       "array([[[0, 7, 5],\n",
       "        [5, 2, 9],\n",
       "        [5, 2, 7]]])"
      ]
     },
     "execution_count": 25,
     "metadata": {},
     "output_type": "execute_result"
    }
   ],
   "source": [
    "t29 = np.random.randint(0,10,(3,3))\n",
    "n = 0  \n",
    "print(t29)\n",
    "t29[t29[:,n].sort()]"
   ]
  },
  {
   "cell_type": "code",
   "execution_count": 26,
   "metadata": {},
   "outputs": [
    {
     "name": "stdout",
     "output_type": "stream",
     "text": [
      "True\n"
     ]
    }
   ],
   "source": [
    "t30 = np.random.randint(0,3,(3,10))\n",
    "print((~t30.any(axis=0)).any())"
   ]
  },
  {
   "cell_type": "code",
   "execution_count": 28,
   "metadata": {},
   "outputs": [
    {
     "data": {
      "text/plain": [
       "array([4., 3., 2., 5., 4., 6., 2., 1., 1., 2.])"
      ]
     },
     "execution_count": 28,
     "metadata": {},
     "output_type": "execute_result"
    }
   ],
   "source": [
    "t31 = np.ones(10)\n",
    "t32 = np.random.randint(0,len(t31),20)\n",
    "t31 += np.bincount(t32, minlength=len(t31))\n",
    "t31"
   ]
  },
  {
   "cell_type": "code",
   "execution_count": 29,
   "metadata": {},
   "outputs": [
    {
     "name": "stdout",
     "output_type": "stream",
     "text": [
      "[0 1]\n"
     ]
    }
   ],
   "source": [
    "w,h = 16,16\n",
    "I = np.random.randint(0, 2, (h,w,3)).astype(np.ubyte)\n",
    "F = I[...,0] * 256 * 256 + I[...,1] * 256 + I[...,2]\n",
    "n = len(np.unique(F))\n",
    "print(np.unique(I))"
   ]
  },
  {
   "cell_type": "code",
   "execution_count": 30,
   "metadata": {},
   "outputs": [
    {
     "name": "stdout",
     "output_type": "stream",
     "text": [
      "[[52 33 42 38]\n",
      " [47 62 73 59]\n",
      " [44 57 64 59]]\n"
     ]
    }
   ],
   "source": [
    "A = np.random.randint(0,10, (3,4,3,4))\n",
    "sum = A.reshape(A.shape[:-2] + (-1,)).sum(axis=-1)\n",
    "print(sum)"
   ]
  },
  {
   "cell_type": "code",
   "execution_count": 39,
   "metadata": {},
   "outputs": [
    {
     "data": {
      "text/plain": [
       "array([116.7700107 , 152.73997233, 115.79955054, 127.31640449,\n",
       "        99.33298344])"
      ]
     },
     "execution_count": 39,
     "metadata": {},
     "output_type": "execute_result"
    }
   ],
   "source": [
    "a = np.random.randint(0,10,(5,5))\n",
    "b = np.random.uniform(0,10,(5,5))\n",
    "m = np.diag(np.dot(a, b))\n",
    "m"
   ]
  },
  {
   "cell_type": "code",
   "execution_count": null,
   "metadata": {},
   "outputs": [],
   "source": []
  }
 ],
 "metadata": {
  "kernelspec": {
   "display_name": "Python 3",
   "language": "python",
   "name": "python3"
  },
  "language_info": {
   "codemirror_mode": {
    "name": "ipython",
    "version": 3
   },
   "file_extension": ".py",
   "mimetype": "text/x-python",
   "name": "python",
   "nbconvert_exporter": "python",
   "pygments_lexer": "ipython3",
   "version": "3.7.3"
  }
 },
 "nbformat": 4,
 "nbformat_minor": 2
}

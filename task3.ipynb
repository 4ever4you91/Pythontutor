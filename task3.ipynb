{
 "cells": [
  {
   "cell_type": "code",
   "execution_count": 136,
   "metadata": {},
   "outputs": [
    {
     "name": "stdout",
     "output_type": "stream",
     "text": [
      "[2.5 2.5 2.5 2.5 2.5 2.5 2.5 2.5 2.5 2.5]\n",
      "[0. 0. 0. 0. 1. 0. 0. 0. 0. 0.]\n",
      "[10 11 12 13 14 15 16 17 18 19 20 21 22 23 24 25 26 27 28 29 30 31 32 33\n",
      " 34 35 36 37 38 39 40 41 42 43 44 45 46 47 48 49]\n",
      "[49 48 47 46 45 44 43 42 41 40 39 38 37 36 35 34 33 32 31 30 29 28 27 26\n",
      " 25 24 23 22 21 20 19 18 17 16 15 14 13 12 11 10]\n"
     ]
    }
   ],
   "source": [
    "import numpy as np\n",
    "\n",
    "print(np.__version__)\n",
    "np.show_config()\n",
    "\n",
    "np.zeros(10)\n",
    "\n",
    "np.ones(10)\n",
    "\n",
    "print(np.full(10, 2.5))\n",
    "\n",
    "#python -c \"import numpy as np; np.info(np.add)\"\n",
    "\n",
    "s= np.zeros(10)\n",
    "s[4] = 1\n",
    "print(s)\n",
    "\n",
    "t1= np.arange(10, 50)\n",
    "print(t1)\n",
    "\n",
    "print(np.flip(t1))\n",
    "\n"
   ]
  },
  {
   "cell_type": "code",
   "execution_count": 147,
   "metadata": {},
   "outputs": [
    {
     "name": "stdout",
     "output_type": "stream",
     "text": [
      "0.5424107683845322\n",
      "1 5 4\n"
     ]
    },
    {
     "data": {
      "text/plain": [
       "array([[1, 0, 1, 0, 1, 0, 1, 0],\n",
       "       [0, 1, 0, 1, 0, 1, 0, 1],\n",
       "       [1, 0, 1, 0, 1, 0, 1, 0],\n",
       "       [0, 1, 0, 1, 0, 1, 0, 1],\n",
       "       [1, 0, 1, 0, 1, 0, 1, 0],\n",
       "       [0, 1, 0, 1, 0, 1, 0, 1],\n",
       "       [1, 0, 1, 0, 1, 0, 1, 0],\n",
       "       [0, 1, 0, 1, 0, 1, 0, 1]])"
      ]
     },
     "execution_count": 147,
     "metadata": {},
     "output_type": "execute_result"
    }
   ],
   "source": [
    "t2 = np.arange(9).reshape(3,3)\n",
    "t2\n",
    "\n",
    "t3 = np.nonzero([1.2, 0.0, 4.0])\n",
    "t3\n",
    "\n",
    "t4 = np.random.rand(3,3,3)\n",
    "t4\n",
    "\n",
    "t5 = np.random.rand(10, 10)\n",
    "np.min(t5)\n",
    "np.max(t5)\n",
    "\n",
    "t6 = np.random.random(30)\n",
    "print(np.average(t6))\n",
    "\n",
    "t7 = np.ones((5,5))\n",
    "t7[1:len(t7)-1,1:len(t7)-1] = 0\n",
    "t7\n",
    "\n",
    "0*np.nan\n",
    "np.nan == np.nan\n",
    "np.inf > np.nan\n",
    "np.nan - np.nan\n",
    "\n",
    "t8 = np.diag(np.arange(1,5), k = -1)\n",
    "t8\n",
    "\n",
    "t9 = np.ones((8,8))\n",
    "t9[0::2, 0::2]=0\n",
    "t9[1::2, 1::2]=0\n",
    "t9\n",
    "\n",
    "t10 = np.ones((6, 7, 8)).tolist()\n",
    "count = 0\n",
    "for i in range(len(t10)):\n",
    "    for k in range(len(t10[i])):\n",
    "        for l in range(len(t10[i][k])):\n",
    "            if count == 100:\n",
    "                print(i, k, l)\n",
    "            count = count + 1  \n",
    "            \n",
    "t11 = np.tile([[1,0],[0,1]], (4,4))\n",
    "t11\n",
    "\n",
    "    \n",
    "\n",
    "\n",
    "    "
   ]
  },
  {
   "cell_type": "code",
   "execution_count": null,
   "metadata": {},
   "outputs": [],
   "source": []
  },
  {
   "cell_type": "code",
   "execution_count": null,
   "metadata": {},
   "outputs": [],
   "source": []
  }
 ],
 "metadata": {
  "kernelspec": {
   "display_name": "Python 3",
   "language": "python",
   "name": "python3"
  },
  "language_info": {
   "codemirror_mode": {
    "name": "ipython",
    "version": 3
   },
   "file_extension": ".py",
   "mimetype": "text/x-python",
   "name": "python",
   "nbconvert_exporter": "python",
   "pygments_lexer": "ipython3",
   "version": "3.7.1"
  }
 },
 "nbformat": 4,
 "nbformat_minor": 2
}
